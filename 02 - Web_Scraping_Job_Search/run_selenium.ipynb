{
 "cells": [
  {
   "cell_type": "code",
   "execution_count": 1,
   "id": "e5c24ed8-dab2-4162-b671-255d37ece08f",
   "metadata": {},
   "outputs": [],
   "source": [
    "import warnings\n",
    "warnings.simplefilter(action='ignore')"
   ]
  },
  {
   "cell_type": "code",
   "execution_count": 10,
   "id": "f95e4a90-7aa7-44fb-ba54-190d6db5b668",
   "metadata": {
    "tags": []
   },
   "outputs": [
    {
     "name": "stdout",
     "output_type": "stream",
     "text": [
      "---------------------- StepStone Job Searching Selenium Project ----------------------\n",
      "Number of Jobs Pages = 23\n",
      "                                        job_title      publish  \\\n",
      "0          Data Scientist / Analyst - Web (m/w/d)  vor 2 Tagen   \n",
      "1  ERP Specialist / Business Data Analyst (m/w/d)  vor 1 Woche   \n",
      "\n",
      "                      company_name  \\\n",
      "0  Neue Westfälische GmbH & Co. KG   \n",
      "1             DAYTON PROGRESS GmbH   \n",
      "\n",
      "                                                city  \\\n",
      "0                                          Bielefeld   \n",
      "1  Hamburg, Köln, Bielefeld, Hannover, Berlin, Le...   \n",
      "\n",
      "                                         Description  \n",
      "0  Wir suchen nach einem Data Analyst/Data Scient...  \n",
      "1  Aktuell sucht Dayton Progress einen ERP Specia...  \n",
      "Page Number : 2 , DataFrame shape : (25, 5)\n",
      "Page Number : 3 , DataFrame shape : (25, 5)\n",
      "Page Number : 4 , DataFrame shape : (25, 5)\n",
      "Page Number : 5 , DataFrame shape : (25, 5)\n",
      "Page Number : 6 , DataFrame shape : (25, 5)\n",
      "Page Number : 7 , DataFrame shape : (25, 5)\n",
      "Page Number : 8 , DataFrame shape : (25, 5)\n",
      "Page Number : 9 , DataFrame shape : (25, 5)\n",
      "Page Number : 10 , DataFrame shape : (25, 5)\n",
      "Page Number : 11 , DataFrame shape : (25, 5)\n",
      "Page Number : 12 , DataFrame shape : (25, 5)\n",
      "Page Number : 13 , DataFrame shape : (25, 5)\n",
      "Page Number : 14 , DataFrame shape : (25, 5)\n",
      "Page Number : 15 , DataFrame shape : (25, 5)\n",
      "Page Number : 16 , DataFrame shape : (25, 5)\n",
      "Page Number : 17 , DataFrame shape : (25, 5)\n",
      "Page Number : 18 , DataFrame shape : (25, 5)\n",
      "Page Number : 19 , DataFrame shape : (25, 5)\n",
      "Page Number : 20 , DataFrame shape : (25, 5)\n",
      "Page Number : 21 , DataFrame shape : (25, 5)\n",
      "Page Number : 22 , DataFrame shape : (25, 5)\n",
      "Page Number : 23 , DataFrame shape : (14, 5)\n",
      "DataFrame End : (564, 5)\n",
      "Code Runned No Problem\n",
      "Time = 0:04:31.150990\n"
     ]
    }
   ],
   "source": [
    "%run '/Users/macbook/Desktop/projects/Github_Repositories/Portfolio Projects/02 - Web_Scraping_Job_Search/SeleniumStepStone.py'"
   ]
  },
  {
   "cell_type": "code",
   "execution_count": null,
   "id": "ed87e0f2-932a-42be-b71c-9c6d2f8e994d",
   "metadata": {},
   "outputs": [],
   "source": [
    "%run '/Users/macbook/Desktop/projects/Github_Repositories/Python_Projects/pythonProjectSelenium/selenium_09_ebay_search.py'"
   ]
  },
  {
   "cell_type": "code",
   "execution_count": 11,
   "id": "a27a9d5c-eff9-4ad4-af4f-20cd1d384c77",
   "metadata": {},
   "outputs": [
    {
     "data": {
      "text/html": [
       "<div>\n",
       "<style scoped>\n",
       "    .dataframe tbody tr th:only-of-type {\n",
       "        vertical-align: middle;\n",
       "    }\n",
       "\n",
       "    .dataframe tbody tr th {\n",
       "        vertical-align: top;\n",
       "    }\n",
       "\n",
       "    .dataframe thead th {\n",
       "        text-align: right;\n",
       "    }\n",
       "</style>\n",
       "<table border=\"1\" class=\"dataframe\">\n",
       "  <thead>\n",
       "    <tr style=\"text-align: right;\">\n",
       "      <th></th>\n",
       "      <th>job_title</th>\n",
       "      <th>publish</th>\n",
       "      <th>company_name</th>\n",
       "      <th>city</th>\n",
       "      <th>Description</th>\n",
       "    </tr>\n",
       "  </thead>\n",
       "  <tbody>\n",
       "    <tr>\n",
       "      <th>0</th>\n",
       "      <td>Data Scientist / Analyst - Web (m/w/d)</td>\n",
       "      <td>vor 2 Tagen</td>\n",
       "      <td>Neue Westfälische GmbH &amp; Co. KG</td>\n",
       "      <td>Bielefeld</td>\n",
       "      <td>Wir suchen nach einem Data Analyst/Data Scient...</td>\n",
       "    </tr>\n",
       "    <tr>\n",
       "      <th>1</th>\n",
       "      <td>ERP Specialist / Business Data Analyst (m/w/d)</td>\n",
       "      <td>vor 1 Woche</td>\n",
       "      <td>DAYTON PROGRESS GmbH</td>\n",
       "      <td>Hamburg, Köln, Bielefeld, Hannover, Berlin, Le...</td>\n",
       "      <td>Aktuell sucht Dayton Progress einen ERP Specia...</td>\n",
       "    </tr>\n",
       "    <tr>\n",
       "      <th>2</th>\n",
       "      <td>Data Analyst / Scientist (m/w/d)</td>\n",
       "      <td>vor 1 Woche</td>\n",
       "      <td>eWolff GmbH</td>\n",
       "      <td>Bielefeld</td>\n",
       "      <td>Finde Deine Rolle und verstärke unser Team Dat...</td>\n",
       "    </tr>\n",
       "    <tr>\n",
       "      <th>3</th>\n",
       "      <td>Data / Business Analyst (m/w/d)</td>\n",
       "      <td>vor 1 Woche</td>\n",
       "      <td>eWolff GmbH</td>\n",
       "      <td>Bielefeld</td>\n",
       "      <td>Finde Deine Rolle und verstärke unser Team Dat...</td>\n",
       "    </tr>\n",
       "    <tr>\n",
       "      <th>4</th>\n",
       "      <td>Consultant Data Analyst (m/w/d)</td>\n",
       "      <td>vor 2 Wochen</td>\n",
       "      <td>Arvato Systems GmbH</td>\n",
       "      <td>Gütersloh</td>\n",
       "      <td>Und darum suchen wir dich als Consultant Data ...</td>\n",
       "    </tr>\n",
       "  </tbody>\n",
       "</table>\n",
       "</div>"
      ],
      "text/plain": [
       "                                        job_title       publish  \\\n",
       "0          Data Scientist / Analyst - Web (m/w/d)   vor 2 Tagen   \n",
       "1  ERP Specialist / Business Data Analyst (m/w/d)   vor 1 Woche   \n",
       "2                Data Analyst / Scientist (m/w/d)   vor 1 Woche   \n",
       "3                 Data / Business Analyst (m/w/d)   vor 1 Woche   \n",
       "4                 Consultant Data Analyst (m/w/d)  vor 2 Wochen   \n",
       "\n",
       "                      company_name  \\\n",
       "0  Neue Westfälische GmbH & Co. KG   \n",
       "1             DAYTON PROGRESS GmbH   \n",
       "2                      eWolff GmbH   \n",
       "3                      eWolff GmbH   \n",
       "4              Arvato Systems GmbH   \n",
       "\n",
       "                                                city  \\\n",
       "0                                          Bielefeld   \n",
       "1  Hamburg, Köln, Bielefeld, Hannover, Berlin, Le...   \n",
       "2                                          Bielefeld   \n",
       "3                                          Bielefeld   \n",
       "4                                          Gütersloh   \n",
       "\n",
       "                                         Description  \n",
       "0  Wir suchen nach einem Data Analyst/Data Scient...  \n",
       "1  Aktuell sucht Dayton Progress einen ERP Specia...  \n",
       "2  Finde Deine Rolle und verstärke unser Team Dat...  \n",
       "3  Finde Deine Rolle und verstärke unser Team Dat...  \n",
       "4  Und darum suchen wir dich als Consultant Data ...  "
      ]
     },
     "execution_count": 11,
     "metadata": {},
     "output_type": "execute_result"
    }
   ],
   "source": [
    "df.head()"
   ]
  },
  {
   "cell_type": "code",
   "execution_count": null,
   "id": "75e1dadd-b0e3-4638-b4ff-81fd89dbd044",
   "metadata": {},
   "outputs": [],
   "source": []
  }
 ],
 "metadata": {
  "kernelspec": {
   "display_name": "Python 3 (ipykernel)",
   "language": "python",
   "name": "python3"
  },
  "language_info": {
   "codemirror_mode": {
    "name": "ipython",
    "version": 3
   },
   "file_extension": ".py",
   "mimetype": "text/x-python",
   "name": "python",
   "nbconvert_exporter": "python",
   "pygments_lexer": "ipython3",
   "version": "3.9.12"
  }
 },
 "nbformat": 4,
 "nbformat_minor": 5
}
