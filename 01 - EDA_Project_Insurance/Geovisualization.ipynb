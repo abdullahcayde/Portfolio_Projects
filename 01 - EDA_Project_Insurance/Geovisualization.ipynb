{
 "cells": [
  {
   "cell_type": "markdown",
   "metadata": {},
   "source": [
    "# Welcome to this Rhyme project \"GeoVisualization in Python\" on Coursera Labs.\n",
    "\n",
    "In this project, you will learn practically how to create geographic visualizations that are useful for your own data science projects.\n",
    "\n",
    "We will go through 5 tasks to implement our project:\n",
    "\n",
    "Task 1: Understanding the importance of Geo Visualization in Data Science with an overview of the whole project (This first recorded non-technical task isn't included in the Jupyter notebook).\n",
    "\n",
    "Task 2: Generating basic maps with Folium.\n",
    "\n",
    "Task 3: Generating Stamen Toner Maps and Stamen Terrain Maps.\n",
    "\n",
    "Task 4: Plotting and Visualizing your own City on the World Map.\n",
    "\n",
    "Task 5: Solving a short project using Geographical Maps."
   ]
  },
  {
   "cell_type": "code",
   "execution_count": null,
   "metadata": {},
   "outputs": [],
   "source": [
    "import numpy as np  # useful for many scientific computing in Python\n",
    "import pandas as pd # primary data structure library"
   ]
  },
  {
   "cell_type": "markdown",
   "metadata": {},
   "source": [
    "# Task 2: Generating basic maps with Folium."
   ]
  },
  {
   "cell_type": "code",
   "execution_count": null,
   "metadata": {},
   "outputs": [],
   "source": [
    "import folium\n",
    "#Folium is a powerful Python library that helps you create several types of Leaflet maps. \n",
    "#The fact that the Folium results are interactive makes this library very useful for dashboard building."
   ]
  },
  {
   "cell_type": "code",
   "execution_count": null,
   "metadata": {},
   "outputs": [],
   "source": [
    "# define the world map\n",
    "\n",
    "# display world map\n"
   ]
  },
  {
   "cell_type": "code",
   "execution_count": null,
   "metadata": {},
   "outputs": [],
   "source": [
    "# define the world map centered around Canada with a low zoom level\n",
    "\n",
    "# display world map\n"
   ]
  },
  {
   "cell_type": "code",
   "execution_count": null,
   "metadata": {},
   "outputs": [],
   "source": [
    "# define the world map in Africa\n",
    "\n",
    "# display world map\n"
   ]
  },
  {
   "cell_type": "markdown",
   "metadata": {},
   "source": [
    "# Task 3: Generating Stamen Toner Maps and Stamen Terrain Maps."
   ]
  },
  {
   "cell_type": "markdown",
   "metadata": {},
   "source": [
    "Stamen Toner Maps"
   ]
  },
  {
   "cell_type": "markdown",
   "metadata": {},
   "source": [
    "These are high-contrast B+W (black and white) maps. They are perfect for data mashups and exploring river meanders and coastal zones."
   ]
  },
  {
   "cell_type": "code",
   "execution_count": null,
   "metadata": {},
   "outputs": [],
   "source": [
    "# create a Stamen Toner map of Africa\n",
    "\n",
    "# display map"
   ]
  },
  {
   "cell_type": "markdown",
   "metadata": {},
   "source": [
    "Stamen Terrain Maps"
   ]
  },
  {
   "cell_type": "markdown",
   "metadata": {},
   "source": [
    "These are maps that feature hill shading and natural vegetation colors. They showcase advanced labeling and linework generalization of dual-carriageway roads."
   ]
  },
  {
   "cell_type": "code",
   "execution_count": null,
   "metadata": {},
   "outputs": [],
   "source": [
    "# create a Stamen Toner map of Africa\n",
    "\n",
    "# display map"
   ]
  },
  {
   "cell_type": "markdown",
   "metadata": {},
   "source": [
    "# Task 4: Generating Stamen Toner Maps and Stamen Terrain Maps."
   ]
  },
  {
   "cell_type": "markdown",
   "metadata": {},
   "source": [
    "Visualizing a city on the world map"
   ]
  },
  {
   "cell_type": "code",
   "execution_count": null,
   "metadata": {},
   "outputs": [],
   "source": [
    "# New Delhi latitude and longitude values\n",
    "\n",
    "# create map and display it\n",
    "\n",
    "# display the map of New Delhi\n"
   ]
  },
  {
   "cell_type": "markdown",
   "metadata": {},
   "source": [
    "# Task 5: Solving a short project using Geographical Maps."
   ]
  },
  {
   "cell_type": "markdown",
   "metadata": {},
   "source": [
    "Maps with Markers"
   ]
  },
  {
   "cell_type": "code",
   "execution_count": null,
   "metadata": {},
   "outputs": [],
   "source": [
    "#Let's download and import the data on police department incidents using pandas\n",
    "# download the dataset and read it into pandas dataframe\n",
    "\n",
    "df_incidents = pd.read_csv('https://s3-api.us-geo.objectstorage.softlayer.net/cf-courses-data/CognitiveClass/DV0101EN/labs/Data_Files/Police_Department_Incidents_-_Previous_Year__2016_.csv')\n",
    "\n",
    "print('Dataset downloaded and read into a pandas dataframe!')"
   ]
  },
  {
   "cell_type": "code",
   "execution_count": null,
   "metadata": {},
   "outputs": [],
   "source": [
    "#Let's take a look at the first five items in our dataset.\n"
   ]
  },
  {
   "cell_type": "code",
   "execution_count": null,
   "metadata": {},
   "outputs": [],
   "source": [
    "#Let's find out how many entries there are in our dataset.\n"
   ]
  },
  {
   "cell_type": "code",
   "execution_count": null,
   "metadata": {},
   "outputs": [],
   "source": [
    "#So the dataframe consists of 150,500 crimes, which took place in the year 2016.\n",
    "#In order to reduce computational cost, let's just work with the first 100 incidents in this dataset.\n",
    "# get the first 100 crimes in the df_incidents dataframe\n"
   ]
  },
  {
   "cell_type": "code",
   "execution_count": null,
   "metadata": {},
   "outputs": [],
   "source": [
    "#Let's confirm that our dataframe now consists only of 100 crimes.\n",
    "\n"
   ]
  },
  {
   "cell_type": "code",
   "execution_count": null,
   "metadata": {},
   "outputs": [],
   "source": [
    "#Now that we reduced the data a little bit, let's visualize where these crimes took place in the city of San Francisco.\n",
    "# We will use the default style and we will initialize the zoom level to 12.\n",
    "# San Francisco latitude and longitude values\n",
    "\n"
   ]
  },
  {
   "cell_type": "code",
   "execution_count": null,
   "metadata": {},
   "outputs": [],
   "source": [
    "# create map and display it\n",
    "\n",
    "# display the map of San Francisco\n"
   ]
  },
  {
   "cell_type": "code",
   "execution_count": null,
   "metadata": {},
   "outputs": [],
   "source": [
    "# Now let's superimpose the locations of the crimes onto the map.\n",
    "# The way to do that in Folium is to create a feature group with its own features and style\n",
    "# and then add it to the sanfran_map.\n",
    "# instantiate a feature group for the incidents in the dataframe\n",
    "incidents = folium.map.FeatureGroup()\n",
    "\n",
    "# loop through the 100 crimes and add each to the incidents feature group\n",
    "for lat, lng, in zip(df_incidents.Y, df_incidents.X):\n",
    "    incidents.add_child(\n",
    "        folium.CircleMarker(\n",
    "            [lat, lng],\n",
    "            radius=5, # define how big you want the circle markers to be\n",
    "            color='yellow',\n",
    "            fill=True,\n",
    "            fill_color='blue',\n",
    "            fill_opacity=0.6\n",
    "        )\n",
    "    )\n",
    "\n",
    "# add incidents to map\n",
    "sanfran_map.add_child(incidents)"
   ]
  },
  {
   "cell_type": "code",
   "execution_count": null,
   "metadata": {},
   "outputs": [],
   "source": [
    "# You can also add some pop-up text that would get displayed when you hover over a marker. \n",
    "# Let's make each marker display the category of the crime when hovered over.\n",
    "# instantiate a feature group for the incidents in the dataframe\n",
    "\n",
    "# loop through the 100 crimes and add each to the incidents feature group\n",
    "\n",
    "\n",
    "# add pop-up text to each marker on the map\n",
    "\n",
    "    \n",
    "# add incidents to map\n"
   ]
  },
  {
   "cell_type": "code",
   "execution_count": null,
   "metadata": {},
   "outputs": [],
   "source": [
    "# You can remove location markers and just add the text to the circle markers themselves as follows:\n",
    "# create map and display it\n",
    "\n",
    "# loop through the 100 crimes and add each to the map\n",
    "\n",
    "\n",
    "# show map\n"
   ]
  },
  {
   "cell_type": "markdown",
   "metadata": {},
   "source": [
    "# Congratulations! You've finished this project!"
   ]
  },
  {
   "cell_type": "code",
   "execution_count": null,
   "metadata": {},
   "outputs": [],
   "source": []
  }
 ],
 "metadata": {
  "kernelspec": {
   "display_name": "Python 3",
   "language": "python",
   "name": "python3"
  },
  "language_info": {
   "codemirror_mode": {
    "name": "ipython",
    "version": 3
   },
   "file_extension": ".py",
   "mimetype": "text/x-python",
   "name": "python",
   "nbconvert_exporter": "python",
   "pygments_lexer": "ipython3",
   "version": "3.7.6"
  }
 },
 "nbformat": 4,
 "nbformat_minor": 2
}
